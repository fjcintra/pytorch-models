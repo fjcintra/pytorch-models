{
  "nbformat": 4,
  "nbformat_minor": 0,
  "metadata": {
    "colab": {
      "provenance": []
    },
    "kernelspec": {
      "name": "python3",
      "display_name": "Python 3"
    },
    "language_info": {
      "name": "python"
    }
  },
  "cells": [
    {
      "cell_type": "code",
      "execution_count": 1,
      "metadata": {
        "id": "y7xzspu_G1k6"
      },
      "outputs": [],
      "source": [
        "import torch\n",
        "import torch.nn as nn\n",
        "import numpy as np\n",
        "from sklearn import datasets\n",
        "import matplotlib.pyplot as plt"
      ]
    },
    {
      "cell_type": "markdown",
      "source": [
        "# 0 - Preparação dos dados"
      ],
      "metadata": {
        "id": "iizNAOyQLrOQ"
      }
    },
    {
      "cell_type": "code",
      "source": [
        "X_numpy, y_numpy = datasets.make_regression(n_samples=100, n_features=1, noise=15, random_state=1)\n",
        "\n",
        "X = torch.from_numpy(X_numpy.astype(np.float32))\n",
        "y = torch.from_numpy(y_numpy.astype(np.float32))\n",
        "y = y.view(y.shape[0], 1)\n",
        "\n",
        "n_samples, n_features = X.shape"
      ],
      "metadata": {
        "id": "EzAtH95nJ3zz"
      },
      "execution_count": 6,
      "outputs": []
    },
    {
      "cell_type": "code",
      "source": [
        "print(X.shape)\n",
        "print(y.shape)"
      ],
      "metadata": {
        "colab": {
          "base_uri": "https://localhost:8080/"
        },
        "id": "vTgaezMLMC2F",
        "outputId": "6a00ea99-925f-4d70-fc70-621c574333be"
      },
      "execution_count": 4,
      "outputs": [
        {
          "output_type": "stream",
          "name": "stdout",
          "text": [
            "torch.Size([100, 1])\n",
            "torch.Size([100, 1])\n"
          ]
        }
      ]
    },
    {
      "cell_type": "markdown",
      "source": [
        "# 1 - Criação do Modelo"
      ],
      "metadata": {
        "id": "m_MYCot7NBqw"
      }
    },
    {
      "cell_type": "code",
      "source": [
        "class LinearRegression(nn.Module):\n",
        "  def __init__(self, input_dim, output_dim):\n",
        "    super(LinearRegression, self).__init__()\n",
        "    self.linear = nn.Linear(input_dim, output_dim)\n",
        "\n",
        "  def forward(self,x):\n",
        "    out = self.linear(x)\n",
        "    return out\n",
        "\n",
        "model = LinearRegression(n_features, n_features)"
      ],
      "metadata": {
        "id": "Vx6boW4ULYWr"
      },
      "execution_count": 5,
      "outputs": []
    },
    {
      "cell_type": "markdown",
      "source": [
        "# 2 - Loss e optimizer"
      ],
      "metadata": {
        "id": "UUO85RPqLv8o"
      }
    },
    {
      "cell_type": "code",
      "source": [
        "l = nn.MSELoss()\n",
        "optimizer = nn.SGD()"
      ],
      "metadata": {
        "id": "xOKHSvJ0LvpN"
      },
      "execution_count": null,
      "outputs": []
    },
    {
      "cell_type": "markdown",
      "source": [
        "# 3 - Loop de Treinamento"
      ],
      "metadata": {
        "id": "3NwKhCt3L1aL"
      }
    },
    {
      "cell_type": "code",
      "source": [],
      "metadata": {
        "id": "0g_L8Fa1L378"
      },
      "execution_count": null,
      "outputs": []
    }
  ]
}